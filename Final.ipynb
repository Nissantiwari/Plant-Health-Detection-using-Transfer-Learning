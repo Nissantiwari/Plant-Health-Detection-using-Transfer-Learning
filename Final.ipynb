{
 "cells": [
  {
   "cell_type": "markdown",
   "metadata": {
    "id": "k0YweZs70tbr"
   },
   "source": [
    "# PREDICT function:\n",
    "'predict' function takes in path where images of plants' leaves are located and for each one of them individually predicts whether they are healthy or not."
   ]
  },
  {
   "cell_type": "code",
   "execution_count": 7,
   "metadata": {
    "id": "Nix-Kk-XRrZt"
   },
   "outputs": [],
   "source": [
    "def final_fun_1(path):\n",
    "  import tensorflow as tf\n",
    "  from tqdm import tqdm\n",
    "  import numpy as np\n",
    "  import keras\n",
    "\n",
    "  #add '*' after path name\n",
    "  if path[-1]=='/':\n",
    "    path=path+\"*\"\n",
    "  else:\n",
    "    path= path+\"/*\"\n",
    "  images_ds= tf.data.Dataset.list_files(path) #get path to images\n",
    "\n",
    "  #function to get image\n",
    "  def process_image(file_path):\n",
    "    img= tf.io.read_file(file_path)\n",
    "    img= tf.image.decode_jpeg(img)\n",
    "    img= tf.image.resize(img, [254,254])\n",
    "    img= img/255\n",
    "    return img\n",
    "  \n",
    "  x=[]\n",
    "  for image in tqdm(images_ds.map(process_image)):\n",
    "    x.append(image)\n",
    "  x= np.array(x)\n",
    "\n",
    "  #get file names:\n",
    "  image_name=[]\n",
    "  for images in images_ds:\n",
    "    image_name.append(images)\n",
    "\n",
    "  file_name_arr= np.array(image_name)\n",
    "  file_name= []\n",
    "  print((file_name_arr[0]))\n",
    "  for i  in file_name_arr:\n",
    "    file_name.append(i)\n",
    "  del file_name_arr\n",
    "\n",
    "  file_names= []\n",
    "  for file in file_name:\n",
    "    file_names.append(file.split('/')[-1])\n",
    "\n",
    "  #load model:\n",
    "  path_to_model= \"/home/nishant/ML/Plant Disease/master/submission/pickle/aug_20_2.hdf5\"\n",
    "  model = keras.models.load_model(path_to_model)\n",
    "\n",
    "  y_pred=[]\n",
    "\n",
    "  for pred in ((model.predict(x))): #custom loop with threshold as 0.1\n",
    "    if pred >= 0.5:\n",
    "      y_pred.append('without_disease')\n",
    "    else:\n",
    "      y_pred.append('with_disease')\n",
    "\n",
    "  #join file_name and it's prediction:\n",
    "  final_pred=[]\n",
    "  for file, pred in zip(file_names, y_pred):\n",
    "    final_pred.append(str(file)+ ': ' + str(pred))\n",
    "  \n",
    "  pred_str=\"\"\n",
    "  for i in final_pred:\n",
    "    pred_str+=i\n",
    "\n",
    "  return final_pred"
   ]
  },
  {
   "cell_type": "code",
   "execution_count": 8,
   "metadata": {},
   "outputs": [
    {
     "name": "stderr",
     "output_type": "stream",
     "text": [
      "100%|██████████| 3/3 [00:00<00:00, 242.52it/s]"
     ]
    },
    {
     "name": "stdout",
     "output_type": "stream",
     "text": [
      "tf.Tensor(b'/home/nishant/ML/Plant Disease/master/submission/data_folder/0b330273-890c-4995-af72-cba070fc0061___GH_HL Leaf 312.JPG', shape=(), dtype=string)\n"
     ]
    },
    {
     "name": "stderr",
     "output_type": "stream",
     "text": [
      "\n"
     ]
    },
    {
     "ename": "AttributeError",
     "evalue": "'tensorflow.python.framework.ops.EagerTensor' object has no attribute 'split'",
     "output_type": "error",
     "traceback": [
      "\u001b[0;31m---------------------------------------------------------------------------\u001b[0m",
      "\u001b[0;31mAttributeError\u001b[0m                            Traceback (most recent call last)",
      "\u001b[0;32m<ipython-input-8-796b13622059>\u001b[0m in \u001b[0;36m<module>\u001b[0;34m\u001b[0m\n\u001b[0;32m----> 1\u001b[0;31m \u001b[0mfinal_fun_1\u001b[0m\u001b[0;34m(\u001b[0m\u001b[0;34m\"/home/nishant/ML/Plant Disease/master/submission/data_folder\"\u001b[0m\u001b[0;34m)\u001b[0m\u001b[0;34m\u001b[0m\u001b[0;34m\u001b[0m\u001b[0m\n\u001b[0m",
      "\u001b[0;32m<ipython-input-7-b2f7f467f344>\u001b[0m in \u001b[0;36mfinal_fun_1\u001b[0;34m(path)\u001b[0m\n\u001b[1;32m     39\u001b[0m   \u001b[0mfile_names\u001b[0m\u001b[0;34m=\u001b[0m \u001b[0;34m[\u001b[0m\u001b[0;34m]\u001b[0m\u001b[0;34m\u001b[0m\u001b[0;34m\u001b[0m\u001b[0m\n\u001b[1;32m     40\u001b[0m   \u001b[0;32mfor\u001b[0m \u001b[0mfile\u001b[0m \u001b[0;32min\u001b[0m \u001b[0mfile_name\u001b[0m\u001b[0;34m:\u001b[0m\u001b[0;34m\u001b[0m\u001b[0;34m\u001b[0m\u001b[0m\n\u001b[0;32m---> 41\u001b[0;31m     \u001b[0mfile_names\u001b[0m\u001b[0;34m.\u001b[0m\u001b[0mappend\u001b[0m\u001b[0;34m(\u001b[0m\u001b[0mfile\u001b[0m\u001b[0;34m.\u001b[0m\u001b[0msplit\u001b[0m\u001b[0;34m(\u001b[0m\u001b[0;34m'/'\u001b[0m\u001b[0;34m)\u001b[0m\u001b[0;34m[\u001b[0m\u001b[0;34m-\u001b[0m\u001b[0;36m1\u001b[0m\u001b[0;34m]\u001b[0m\u001b[0;34m)\u001b[0m\u001b[0;34m\u001b[0m\u001b[0;34m\u001b[0m\u001b[0m\n\u001b[0m\u001b[1;32m     42\u001b[0m \u001b[0;34m\u001b[0m\u001b[0m\n\u001b[1;32m     43\u001b[0m   \u001b[0;31m#load model:\u001b[0m\u001b[0;34m\u001b[0m\u001b[0;34m\u001b[0m\u001b[0;34m\u001b[0m\u001b[0m\n",
      "\u001b[0;31mAttributeError\u001b[0m: 'tensorflow.python.framework.ops.EagerTensor' object has no attribute 'split'"
     ]
    }
   ],
   "source": [
    "final_fun_1(\"/home/nishant/ML/Plant Disease/master/submission/data_folder\")"
   ]
  },
  {
   "cell_type": "code",
   "execution_count": null,
   "metadata": {},
   "outputs": [],
   "source": [
    "str='''Hello all!! \\nI am Pythoner \\nWelcome to the AskPython Tutorial'''\n",
    "print(str)"
   ]
  },
  {
   "cell_type": "code",
   "execution_count": null,
   "metadata": {},
   "outputs": [],
   "source": [
    "/home/nishant/ML/Plant Disease/master/submission/data_folder"
   ]
  },
  {
   "cell_type": "markdown",
   "metadata": {
    "id": "vpAJCtPd1CaP"
   },
   "source": [
    "# ACCURACY function:\n",
    "'accuracy' function takes in path where plants' leaves images are located in 'healthy_plants' and 'unhealthy_plants' folders, loads pretrained model, inputs the image in model and gives output in form of accuracy."
   ]
  },
  {
   "cell_type": "code",
   "execution_count": 17,
   "metadata": {
    "id": "E78wDg6W5Vsw"
   },
   "outputs": [],
   "source": [
    "def final_fun_2(path):\n",
    "  import tensorflow as tf\n",
    "  from tqdm import tqdm\n",
    "  import numpy as np\n",
    "  from sklearn.preprocessing import LabelBinarizer\n",
    "  import keras\n",
    "\n",
    "  if path[-1]=='/':\n",
    "    path=path+\"*/*\"\n",
    "  elif path[-1]!= '/':\n",
    "    path= path+\"/*/*\"\n",
    "  else:\n",
    "    path= path\n",
    "\n",
    "  images_ds= tf.data.Dataset.list_files(path) #get path to images\n",
    "\n",
    "  # function to get label\n",
    "  def get_label(file_path):\n",
    "    import os\n",
    "    return tf.strings.split(file_path, os.path.sep)[-2]\n",
    "\n",
    "  #function to get image and label\n",
    "  def process_image(file_path):\n",
    "    label= get_label(file_path)\n",
    "    \n",
    "    img= tf.io.read_file(file_path)\n",
    "    img= tf.image.decode_jpeg(img)\n",
    "    img= tf.image.resize(img, [254,254])\n",
    "    img= img/255\n",
    "    return img, label\n",
    "  \n",
    "  x=[]\n",
    "  y=[]\n",
    "\n",
    "  for image, label in tqdm(images_ds.map(process_image)):\n",
    "    x.append(image)\n",
    "    y.append(label)\n",
    "\n",
    "  x= np.array(x)\n",
    "  y_arr= np.array(y)\n",
    "\n",
    "  y= []\n",
    "  for i  in y_arr:\n",
    "    i= ((str(i).split(',')[0][12:])[:-1])\n",
    "    y.append(i)\n",
    "  del y_arr\n",
    "\n",
    "  y= np.asarray(y)\n",
    "\n",
    "  #converting strings of y into label (1s and 0s):\n",
    "  label_binarizer = LabelBinarizer()\n",
    "  y_label = label_binarizer.fit_transform(y)\n",
    "  n_classes = len(label_binarizer.classes_)\n",
    "\n",
    "  #load model:\n",
    "  path_to_model= \"/content/gdrive/MyDrive/Plant_disease/aug_20_2.hdf5\"\n",
    "  model = keras.models.load_model(path_to_model)\n",
    "\n",
    "  scores = model.evaluate(x, y_label)\n",
    "  print(f\"ACCURACY for test dataset is: {scores[1]}\")"
   ]
  },
  {
   "cell_type": "code",
   "execution_count": 14,
   "metadata": {
    "colab": {
     "base_uri": "https://localhost:8080/"
    },
    "id": "sMseXobjCwbX",
    "outputId": "4453c3e9-4fa0-4d21-f576-529817e903f3"
   },
   "outputs": [
    {
     "name": "stderr",
     "output_type": "stream",
     "text": [
      "100%|██████████| 425/425 [00:05<00:00, 82.37it/s]\n"
     ]
    },
    {
     "name": "stdout",
     "output_type": "stream",
     "text": [
      "14/14 [==============================] - 18s 1s/step - loss: 0.3670 - accuracy: 0.8424\n",
      "ACCURACY for test dataset is: 0.8423529267311096\n"
     ]
    }
   ],
   "source": [
    "final_fun_2(\"/content/gdrive/MyDrive/Plant_disease/self_collected/Test\")"
   ]
  }
 ],
 "metadata": {
  "colab": {
   "collapsed_sections": [],
   "name": "FINAL.ipynb",
   "provenance": [],
   "toc_visible": true
  },
  "kernelspec": {
   "display_name": "Python 3",
   "language": "python",
   "name": "python3"
  },
  "language_info": {
   "codemirror_mode": {
    "name": "ipython",
    "version": 3
   },
   "file_extension": ".py",
   "mimetype": "text/x-python",
   "name": "python",
   "nbconvert_exporter": "python",
   "pygments_lexer": "ipython3",
   "version": "3.8.10"
  }
 },
 "nbformat": 4,
 "nbformat_minor": 1
}
